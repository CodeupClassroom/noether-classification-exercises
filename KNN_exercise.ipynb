{
 "cells": [
  {
   "cell_type": "markdown",
   "id": "bd0711e9",
   "metadata": {},
   "source": [
    "# KNN Exercises\n",
    "\n",
    "Create a new notebook, knn_model, and work with the titanic dataset. \n",
    "\n",
    "**Imports**"
   ]
  },
  {
   "cell_type": "code",
   "execution_count": 71,
   "id": "1b01f078",
   "metadata": {},
   "outputs": [],
   "source": [
    "import numpy as np\n",
    "import pandas as pd\n",
    "from sklearn.neighbors import KNeighborsClassifier\n",
    "import acquire\n",
    "from prepare import prep_titanic_data\n",
    "import matplotlib.pyplot as plt\n",
    "from sklearn.metrics import classification_report, confusion_matrix\n",
    "\n",
    "import warnings\n",
    "warnings.filterwarnings(\"ignore\")"
   ]
  },
  {
   "cell_type": "markdown",
   "id": "a7460d56",
   "metadata": {},
   "source": [
    "**Acquire & Prepare**"
   ]
  },
  {
   "cell_type": "code",
   "execution_count": 72,
   "id": "cc07d208",
   "metadata": {},
   "outputs": [
    {
     "data": {
      "text/plain": [
       "((498, 9), (214, 9), (179, 9))"
      ]
     },
     "execution_count": 72,
     "metadata": {},
     "output_type": "execute_result"
    }
   ],
   "source": [
    "# Acquire Step\n",
    "df = acquire.get_titanic_data()\n",
    "\n",
    "# prepare the data\n",
    "train, validate, test = prep_titanic_data(df)\n",
    "\n",
    "# drop object columns and create X_train of features only \n",
    "# and y_train of survived only. \n",
    "X_train = train.drop(columns=['survived','sex','embark_town'])\n",
    "y_train = train.survived\n",
    "\n",
    "X_validate = validate.drop(columns=['survived','sex', 'embark_town'])\n",
    "y_validate = validate.survived\n",
    "\n",
    "X_test = test.drop(columns=['survived','sex', 'embark_town'])\n",
    "y_test = test.survived\n",
    "\n",
    "# check the shape\n",
    "X_train.shape, X_validate.shape, X_test.shape"
   ]
  },
  {
   "cell_type": "markdown",
   "id": "6757bee7",
   "metadata": {},
   "source": [
    "**Explore**\n",
    "\n",
    "* Think back to your Explore lesson and ask questions you want to know about the data\n",
    "* Make decisions on which varaibles to keep and which to discard\n",
    "* Accomplish feature engineering to provide the model with new variables"
   ]
  },
  {
   "cell_type": "markdown",
   "id": "eefa7276",
   "metadata": {},
   "source": [
    "**Model**\n",
    "\n",
    "0. Baseline (mode of the target for classification problems)\n",
    "1. Model 1 (KNN with k=5 and features=[]):\n",
    "    1. Create Algorithm Object\n",
    "    2. Create Model by fitting algorithm to X_train, y_train\n",
    "    3. Run Model by predicting using X_train\n",
    "    4. Evaluate Model by comparing y_train_pred with y_train (actual values)\n",
    "2. Model 2 (RF with max_depth=10):\n",
    "    1. Create Algorithm Object\n",
    "    2. Create Model by fitting algorithm to X_train, y_train\n",
    "    3. Run Model by predicting using X_train\n",
    "    4. Evaluate Model by comparing y_train_pred with y_train (actual values)\n",
    "3. Model 3 (KNN with a different K)\n",
    "    1. Create Algorithm Object\n",
    "    2. Create Model by fitting algorithm to X_train, y_train\n",
    "    3. Run Model by predicting using X_train\n",
    "    4. Evaluate Model by comparing y_train_pred with y_train (actual values)\n",
    "4. Model 4 (RF with different set of features)\n",
    "5. ...\n",
    "\n",
    "5. Select top 3 models and run through validate (to check for overfitting)\n",
    "    1. Run Model1 by predicting using X_validate\n",
    "    2. Evaluate Model1 by comparing y_validate_pred with y_validate (actual values)\n",
    "    3. Run Model2 by predicting using X_validate\n",
    "    2. Evaluate Model2 by comparing y_validate_pred with y_validate (actual values)\n",
    "    3. Run Model3 by predicting using X_validate\n",
    "    2. Evaluate Model3 by comparing y_validate_pred with y_validate (actual values)\n",
    "\n",
    "6. Select the top model and run it through test (to estimate how we expect the model to perform in the future and new data)"
   ]
  },
  {
   "cell_type": "markdown",
   "id": "1bfbdcdf",
   "metadata": {},
   "source": [
    "**Baseline**\n",
    "\n",
    "Let's make this easier next time, by writing a function to compute the baseline accuracy for classification problems. "
   ]
  },
  {
   "cell_type": "code",
   "execution_count": 75,
   "id": "2b06b4bd",
   "metadata": {},
   "outputs": [],
   "source": [
    "# write a function to compute the baseline for a classification model\n",
    "\n",
    "def establish_baseline(y_train):\n",
    "    #  establish the value we will predict for all observations\n",
    "    baseline_prediction = y_train.mode()\n",
    "\n",
    "    # create a series of predictions with that value, \n",
    "    # the same length as our training set\n",
    "    y_train_pred = pd.Series([0]*len(y_train))\n",
    "\n",
    "    # compute accuracy of baseline\n",
    "    cm = confusion_matrix(y_train, y_train_pred)\n",
    "    tn, fp, fn, tp = cm.ravel()\n",
    "\n",
    "    accuracy = (tp+tn)/(tn+fp+fn+tp)\n",
    "    return accuracy"
   ]
  },
  {
   "cell_type": "code",
   "execution_count": 76,
   "id": "78ae4761",
   "metadata": {},
   "outputs": [
    {
     "data": {
      "text/plain": [
       "0.6164658634538153"
      ]
     },
     "execution_count": 76,
     "metadata": {},
     "output_type": "execute_result"
    }
   ],
   "source": [
    "establish_baseline(y_train)"
   ]
  },
  {
   "cell_type": "markdown",
   "id": "a805e2ce",
   "metadata": {},
   "source": [
    "1. Fit a K-Nearest Neighbors classifier to your training sample and transform (i.e. make predictions on the training sample)"
   ]
  },
  {
   "cell_type": "code",
   "execution_count": 78,
   "id": "e2e8d040",
   "metadata": {},
   "outputs": [],
   "source": [
    "knn = KNeighborsClassifier()\n",
    "knn.fit(X_train, y_train)\n",
    "y_train_pred = knn.predict(X_train)"
   ]
  },
  {
   "cell_type": "markdown",
   "id": "13590049",
   "metadata": {},
   "source": [
    "2. Evaluate your results using the model score, confusion matrix, and classification report."
   ]
  },
  {
   "cell_type": "code",
   "execution_count": 79,
   "id": "3c15db72",
   "metadata": {},
   "outputs": [
    {
     "data": {
      "text/plain": [
       "0.7931726907630522"
      ]
     },
     "execution_count": 79,
     "metadata": {},
     "output_type": "execute_result"
    }
   ],
   "source": [
    "# model score\n",
    "accuracy_train = knn.score(X_train, y_train)\n",
    "accuracy_train"
   ]
  },
  {
   "cell_type": "code",
   "execution_count": 80,
   "id": "92181852",
   "metadata": {},
   "outputs": [
    {
     "data": {
      "text/html": [
       "<div>\n",
       "<style scoped>\n",
       "    .dataframe tbody tr th:only-of-type {\n",
       "        vertical-align: middle;\n",
       "    }\n",
       "\n",
       "    .dataframe tbody tr th {\n",
       "        vertical-align: top;\n",
       "    }\n",
       "\n",
       "    .dataframe thead th {\n",
       "        text-align: right;\n",
       "    }\n",
       "</style>\n",
       "<table border=\"1\" class=\"dataframe\">\n",
       "  <thead>\n",
       "    <tr style=\"text-align: right;\">\n",
       "      <th></th>\n",
       "      <th>Pred 0</th>\n",
       "      <th>Pred 1</th>\n",
       "    </tr>\n",
       "  </thead>\n",
       "  <tbody>\n",
       "    <tr>\n",
       "      <th>Actual 0</th>\n",
       "      <td>258</td>\n",
       "      <td>49</td>\n",
       "    </tr>\n",
       "    <tr>\n",
       "      <th>Actual 1</th>\n",
       "      <td>54</td>\n",
       "      <td>137</td>\n",
       "    </tr>\n",
       "  </tbody>\n",
       "</table>\n",
       "</div>"
      ],
      "text/plain": [
       "          Pred 0  Pred 1\n",
       "Actual 0     258      49\n",
       "Actual 1      54     137"
      ]
     },
     "execution_count": 80,
     "metadata": {},
     "output_type": "execute_result"
    }
   ],
   "source": [
    "# confusion matrix\n",
    "cm = confusion_matrix(y_train, y_train_pred)\n",
    "pd.DataFrame(cm, index=['Actual 0', 'Actual 1'], \n",
    "             columns=['Pred 0', 'Pred 1'])"
   ]
  },
  {
   "cell_type": "code",
   "execution_count": 81,
   "id": "37da167d",
   "metadata": {},
   "outputs": [
    {
     "data": {
      "text/html": [
       "<div>\n",
       "<style scoped>\n",
       "    .dataframe tbody tr th:only-of-type {\n",
       "        vertical-align: middle;\n",
       "    }\n",
       "\n",
       "    .dataframe tbody tr th {\n",
       "        vertical-align: top;\n",
       "    }\n",
       "\n",
       "    .dataframe thead th {\n",
       "        text-align: right;\n",
       "    }\n",
       "</style>\n",
       "<table border=\"1\" class=\"dataframe\">\n",
       "  <thead>\n",
       "    <tr style=\"text-align: right;\">\n",
       "      <th></th>\n",
       "      <th>0</th>\n",
       "      <th>1</th>\n",
       "      <th>accuracy</th>\n",
       "      <th>macro avg</th>\n",
       "      <th>weighted avg</th>\n",
       "    </tr>\n",
       "  </thead>\n",
       "  <tbody>\n",
       "    <tr>\n",
       "      <th>precision</th>\n",
       "      <td>0.826923</td>\n",
       "      <td>0.736559</td>\n",
       "      <td>0.793173</td>\n",
       "      <td>0.781741</td>\n",
       "      <td>0.792265</td>\n",
       "    </tr>\n",
       "    <tr>\n",
       "      <th>recall</th>\n",
       "      <td>0.840391</td>\n",
       "      <td>0.717277</td>\n",
       "      <td>0.793173</td>\n",
       "      <td>0.778834</td>\n",
       "      <td>0.793173</td>\n",
       "    </tr>\n",
       "    <tr>\n",
       "      <th>f1-score</th>\n",
       "      <td>0.833603</td>\n",
       "      <td>0.726790</td>\n",
       "      <td>0.793173</td>\n",
       "      <td>0.780197</td>\n",
       "      <td>0.792636</td>\n",
       "    </tr>\n",
       "    <tr>\n",
       "      <th>support</th>\n",
       "      <td>307.000000</td>\n",
       "      <td>191.000000</td>\n",
       "      <td>0.793173</td>\n",
       "      <td>498.000000</td>\n",
       "      <td>498.000000</td>\n",
       "    </tr>\n",
       "  </tbody>\n",
       "</table>\n",
       "</div>"
      ],
      "text/plain": [
       "                    0           1  accuracy   macro avg  weighted avg\n",
       "precision    0.826923    0.736559  0.793173    0.781741      0.792265\n",
       "recall       0.840391    0.717277  0.793173    0.778834      0.793173\n",
       "f1-score     0.833603    0.726790  0.793173    0.780197      0.792636\n",
       "support    307.000000  191.000000  0.793173  498.000000    498.000000"
      ]
     },
     "execution_count": 81,
     "metadata": {},
     "output_type": "execute_result"
    }
   ],
   "source": [
    "# classification report\n",
    "pd.DataFrame(classification_report(y_train, \n",
    "                                   y_train_pred, \n",
    "                                   output_dict=True))"
   ]
  },
  {
   "cell_type": "markdown",
   "id": "86267d14",
   "metadata": {},
   "source": [
    "3. Print and clearly label the following: Accuracy, true positive rate, false positive rate, true negative rate, false negative rate, precision, recall, f1-score, and support."
   ]
  },
  {
   "cell_type": "code",
   "execution_count": 82,
   "id": "133f5d0d",
   "metadata": {},
   "outputs": [
    {
     "name": "stdout",
     "output_type": "stream",
     "text": [
      "Accuracy: 0.7931726907630522\n",
      "True Positive Rate: 0.7172774869109948\n",
      "False Positive Rate: 0.15960912052117263\n",
      "True Negative Rate: 0.8403908794788274\n",
      "False Negative Rate: 0.28272251308900526\n",
      "Precision: 0.7365591397849462\n",
      "Recall: 0.7172774869109948\n",
      "F1 Score: 0.726790450928382\n",
      "Support (0): 191\n",
      "Support (1): 307\n"
     ]
    }
   ],
   "source": [
    "def print_cm_metrics(cm):\n",
    "    # extract tp, tn, fp, fn from the confusion matrix to use in calculations\n",
    "    tn, fp, fn, tp = cm.ravel()\n",
    "\n",
    "    accuracy = (tp + tn)/(tn + fp + fn + tp)\n",
    "    print(f\"Accuracy: {accuracy}\")\n",
    "\n",
    "    true_positive_rate = tp/(tp + fn)\n",
    "    print(f\"True Positive Rate: {true_positive_rate}\")\n",
    "\n",
    "    false_positive_rate = fp/(fp + tn)\n",
    "    print(f\"False Positive Rate: {false_positive_rate}\")\n",
    "\n",
    "    true_negative_rate = tn/(tn + fp)\n",
    "    print(f\"True Negative Rate: {true_negative_rate}\")\n",
    "\n",
    "    false_negative_rate = fn/(fn + tp)\n",
    "    print(f\"False Negative Rate: {false_negative_rate}\")\n",
    "\n",
    "    precision = tp/(tp + fp)\n",
    "    print(f\"Precision: {precision}\")\n",
    "\n",
    "    recall = tp/(tp + fn)\n",
    "    print(f\"Recall: {recall}\")\n",
    "\n",
    "    f1_score = 2*(precision*recall)/(precision+recall)\n",
    "    print(f\"F1 Score: {f1_score}\")\n",
    "\n",
    "    support_pos = tp + fn\n",
    "    print(f\"Support (0): {support_pos}\")\n",
    "\n",
    "    support_neg = fp + tn\n",
    "    print(f\"Support (1): {support_neg}\")\n",
    "    \n",
    "print_cm_metrics(cm)"
   ]
  },
  {
   "cell_type": "markdown",
   "id": "adc12894",
   "metadata": {},
   "source": [
    "4. Run through steps 1-3 setting k to 10"
   ]
  },
  {
   "cell_type": "code",
   "execution_count": 83,
   "id": "324e84e7",
   "metadata": {},
   "outputs": [],
   "source": [
    "def knn_fit_predict(k, X_train, y_train, X_validate):\n",
    "    # create the object\n",
    "    knn = KNeighborsClassifier(n_neighbors=k)\n",
    "\n",
    "    # create the model\n",
    "    knn.fit(X_train, y_train)\n",
    "\n",
    "    # run the model\n",
    "    y_train_pred = knn.predict(X_train)\n",
    "    y_validate_pred = knn.predict(X_validate)\n",
    "    \n",
    "    return knn, y_train_pred, y_validate_pred\n",
    "\n",
    "def evaluate_clf(model, X, y, y_pred):\n",
    "    # model score\n",
    "    accuracy = model.score(X, y)\n",
    "    print(f'Accuracy: {accuracy}')\n",
    "\n",
    "    # confusion matrix\n",
    "    cm = confusion_matrix(y, y_pred)\n",
    "    print('Confusion Matrix')\n",
    "    print(pd.DataFrame(cm, index=['Actual 0', 'Actual 1'], \n",
    "                       columns=['Pred 0', 'Pred 1']))\n",
    "\n",
    "    # classification report\n",
    "    print('Classification Report')\n",
    "    print(pd.DataFrame(classification_report(y, y_pred,\n",
    "                                             output_dict=True)))\n",
    "    # confusion matrix metrics\n",
    "    print_cm_metrics(cm)\n",
    "    \n",
    "    return accuracy"
   ]
  },
  {
   "cell_type": "code",
   "execution_count": 84,
   "id": "980899eb",
   "metadata": {},
   "outputs": [
    {
     "name": "stdout",
     "output_type": "stream",
     "text": [
      "KNN where K = 10\n"
     ]
    }
   ],
   "source": [
    "k = 10\n",
    "print(f'KNN where K = {k}' )\n",
    "\n",
    "knn, y_train_pred, y_validate_pred = knn_fit_predict(k, \n",
    "                                                     X_train, \n",
    "                                                     y_train, \n",
    "                                                     X_validate)"
   ]
  },
  {
   "cell_type": "code",
   "execution_count": 87,
   "id": "f567b79a",
   "metadata": {},
   "outputs": [
    {
     "data": {
      "text/plain": [
       "(array([1, 1, 0, 0, 1, 0, 0, 0, 0, 0, 0, 0, 1, 0, 0, 0, 0, 1, 0, 0, 0, 0,\n",
       "        1, 0, 0, 0, 0, 0, 0, 0, 0, 0, 0, 1, 1, 0, 0, 0, 0, 0, 0, 0, 0, 0,\n",
       "        0, 0, 0, 0, 1, 0, 0, 0, 1, 1, 0, 1, 0, 0, 0, 0, 0, 0, 0, 0, 0, 0,\n",
       "        0, 0, 0, 0, 0, 0, 0, 0, 0, 0, 0, 0, 0, 0, 0, 0, 0, 1, 0, 0, 1, 1,\n",
       "        1, 0, 0, 0, 1, 1, 0, 0, 1, 0, 0, 1, 0, 1, 0, 0, 1, 1, 0, 1, 0, 0,\n",
       "        0, 0, 0, 0, 0, 1, 0, 0, 1, 0, 0, 0, 1, 0, 0, 1, 1, 1, 0, 1, 1, 0,\n",
       "        0, 1, 0, 0, 0, 0, 0, 1, 0, 1, 1, 0, 0, 0, 0, 0, 1, 1, 0, 0, 0, 0,\n",
       "        0, 1, 0, 0, 0, 0, 0, 1, 0, 0, 0, 0, 0, 0, 1, 0, 0, 1, 0, 0, 0, 0,\n",
       "        1, 0, 0, 0, 0, 0, 0, 1, 0, 1, 0, 1, 0, 0, 0, 1, 0, 0, 1, 0, 0, 0,\n",
       "        0, 0, 0, 1, 1, 0, 0, 0, 0, 1, 0, 0, 0, 0, 0, 0, 1, 0, 0, 0, 0, 0,\n",
       "        0, 0, 0, 1, 0, 0, 0, 0, 0, 1, 0, 0, 0, 0, 0, 0, 0, 0, 0, 0, 0, 0,\n",
       "        0, 0, 1, 0, 1, 0, 0, 1, 0, 1, 0, 1, 0, 0, 1, 1, 1, 0, 0, 0, 1, 1,\n",
       "        0, 0, 0, 0, 0, 0, 0, 1, 0, 1, 0, 0, 0, 0, 0, 0, 0, 0, 0, 1, 0, 0,\n",
       "        0, 0, 1, 0, 0, 0, 0, 0, 0, 1, 1, 0, 0, 0, 0, 0, 0, 1, 0, 0, 1, 0,\n",
       "        0, 0, 0, 0, 0, 1, 0, 0, 0, 1, 0, 0, 0, 0, 0, 0, 0, 1, 0, 1, 1, 0,\n",
       "        0, 1, 1, 1, 1, 1, 0, 1, 0, 0, 0, 0, 0, 1, 0, 0, 0, 1, 1, 0, 1, 0,\n",
       "        0, 1, 0, 0, 1, 1, 0, 0, 0, 1, 0, 0, 0, 1, 0, 0, 0, 0, 0, 0, 0, 1,\n",
       "        0, 0, 1, 0, 1, 0, 1, 1, 0, 0, 1, 1, 0, 0, 1, 0, 0, 1, 1, 0, 1, 0,\n",
       "        0, 0, 0, 1, 0, 0, 0, 1, 0, 0, 0, 0, 0, 0, 0, 0, 0, 0, 1, 1, 1, 0,\n",
       "        1, 0, 0, 0, 0, 0, 0, 0, 0, 1, 0, 1, 0, 0, 0, 0, 0, 0, 1, 0, 1, 0,\n",
       "        0, 0, 0, 0, 0, 0, 0, 0, 0, 0, 1, 1, 0, 0, 0, 0, 0, 1, 0, 0, 0, 0,\n",
       "        1, 1, 0, 1, 1, 0, 1, 0, 1, 0, 0, 0, 0, 0, 0, 0, 1, 0, 1, 0, 1, 1,\n",
       "        0, 1, 0, 0, 0, 0, 0, 0, 1, 0, 0, 0, 0, 0]),\n",
       " array([0, 0, 0, 1, 0, 0, 1, 0, 0, 0, 0, 0, 1, 0, 0, 1, 0, 0, 1, 1, 0, 0,\n",
       "        0, 0, 0, 1, 0, 1, 0, 0, 1, 0, 1, 0, 0, 1, 0, 0, 0, 0, 0, 1, 0, 0,\n",
       "        0, 1, 0, 0, 0, 0, 1, 0, 1, 0, 0, 0, 0, 0, 0, 1, 0, 0, 1, 0, 0, 0,\n",
       "        0, 0, 0, 0, 0, 1, 0, 1, 1, 1, 0, 0, 0, 0, 0, 0, 0, 0, 0, 1, 0, 0,\n",
       "        0, 0, 0, 1, 0, 0, 0, 0, 0, 0, 0, 0, 1, 0, 0, 0, 0, 0, 1, 0, 0, 1,\n",
       "        1, 1, 0, 0, 0, 1, 1, 0, 1, 0, 0, 0, 0, 0, 0, 0, 0, 1, 0, 0, 0, 0,\n",
       "        0, 1, 0, 0, 0, 0, 0, 1, 1, 1, 1, 0, 0, 0, 1, 0, 0, 0, 0, 0, 0, 0,\n",
       "        0, 1, 0, 0, 0, 1, 0, 0, 0, 1, 0, 0, 1, 0, 0, 0, 0, 1, 1, 0, 0, 0,\n",
       "        0, 0, 1, 0, 0, 0, 1, 1, 1, 0, 0, 0, 1, 0, 0, 0, 1, 1, 1, 1, 0, 0,\n",
       "        0, 0, 0, 0, 0, 0, 1, 0, 0, 0, 1, 0, 0, 1, 1, 0]))"
      ]
     },
     "execution_count": 87,
     "metadata": {},
     "output_type": "execute_result"
    }
   ],
   "source": [
    "y_train_pred, y_validate_pred"
   ]
  },
  {
   "cell_type": "code",
   "execution_count": 88,
   "id": "2607eda7",
   "metadata": {},
   "outputs": [
    {
     "name": "stdout",
     "output_type": "stream",
     "text": [
      "Train Evaluation\n",
      "\n",
      "Accuracy: 0.7449799196787149\n",
      "Confusion Matrix\n",
      "          Pred 0  Pred 1\n",
      "Actual 0     275      32\n",
      "Actual 1      95      96\n",
      "Classification Report\n",
      "                    0           1  accuracy   macro avg  weighted avg\n",
      "precision    0.743243    0.750000   0.74498    0.746622      0.745835\n",
      "recall       0.895765    0.502618   0.74498    0.699192      0.744980\n",
      "f1-score     0.812408    0.601881   0.74498    0.707144      0.731663\n",
      "support    307.000000  191.000000   0.74498  498.000000    498.000000\n",
      "Accuracy: 0.7449799196787149\n",
      "True Positive Rate: 0.5026178010471204\n",
      "False Positive Rate: 0.10423452768729642\n",
      "True Negative Rate: 0.8957654723127035\n",
      "False Negative Rate: 0.4973821989528796\n",
      "Precision: 0.75\n",
      "Recall: 0.5026178010471204\n",
      "F1 Score: 0.6018808777429466\n",
      "Support (0): 191\n",
      "Support (1): 307\n",
      "\n",
      "Validate Evaluation\n",
      "\n",
      "Accuracy: 0.7242990654205608\n",
      "Confusion Matrix\n",
      "          Pred 0  Pred 1\n",
      "Actual 0     115      17\n",
      "Actual 1      42      40\n",
      "Classification Report\n",
      "                    0          1  accuracy   macro avg  weighted avg\n",
      "precision    0.732484   0.701754  0.724299    0.717119      0.720709\n",
      "recall       0.871212   0.487805  0.724299    0.679508      0.724299\n",
      "f1-score     0.795848   0.575540  0.724299    0.685694      0.711431\n",
      "support    132.000000  82.000000  0.724299  214.000000    214.000000\n",
      "Accuracy: 0.7242990654205608\n",
      "True Positive Rate: 0.4878048780487805\n",
      "False Positive Rate: 0.12878787878787878\n",
      "True Negative Rate: 0.8712121212121212\n",
      "False Negative Rate: 0.5121951219512195\n",
      "Precision: 0.7017543859649122\n",
      "Recall: 0.4878048780487805\n",
      "F1 Score: 0.5755395683453237\n",
      "Support (0): 82\n",
      "Support (1): 132\n"
     ]
    }
   ],
   "source": [
    "print('Train Evaluation\\n')\n",
    "train_accuracy = evaluate_clf(knn, X_train, y_train, y_train_pred)\n",
    "print('\\nValidate Evaluation\\n')\n",
    "validate_accuracy = evaluate_clf(knn, X_validate, \n",
    "                                 y_validate, y_validate_pred)"
   ]
  },
  {
   "cell_type": "markdown",
   "id": "fc11da20",
   "metadata": {},
   "source": [
    "5. Run through steps 1-3 setting k to 20"
   ]
  },
  {
   "cell_type": "code",
   "execution_count": 89,
   "id": "4963e95e",
   "metadata": {},
   "outputs": [
    {
     "name": "stdout",
     "output_type": "stream",
     "text": [
      "KNN where K = 20\n",
      "Train Evaluation\n",
      "\n",
      "Accuracy: 0.7188755020080321\n",
      "Confusion Matrix\n",
      "          Pred 0  Pred 1\n",
      "Actual 0     269      38\n",
      "Actual 1     102      89\n",
      "Classification Report\n",
      "                    0           1  accuracy   macro avg  weighted avg\n",
      "precision    0.725067    0.700787  0.718876    0.712927      0.715755\n",
      "recall       0.876221    0.465969  0.718876    0.671095      0.718876\n",
      "f1-score     0.793510    0.559748  0.718876    0.676629      0.703855\n",
      "support    307.000000  191.000000  0.718876  498.000000    498.000000\n",
      "Accuracy: 0.7188755020080321\n",
      "True Positive Rate: 0.46596858638743455\n",
      "False Positive Rate: 0.1237785016286645\n",
      "True Negative Rate: 0.8762214983713354\n",
      "False Negative Rate: 0.5340314136125655\n",
      "Precision: 0.7007874015748031\n",
      "Recall: 0.46596858638743455\n",
      "F1 Score: 0.559748427672956\n",
      "Support (0): 191\n",
      "Support (1): 307\n",
      "\n",
      "Validate Evaluation\n",
      "\n",
      "Accuracy: 0.7149532710280374\n",
      "Confusion Matrix\n",
      "          Pred 0  Pred 1\n",
      "Actual 0     112      20\n",
      "Actual 1      41      41\n",
      "Classification Report\n",
      "                    0          1  accuracy   macro avg  weighted avg\n",
      "precision    0.732026   0.672131  0.714953    0.702079      0.709076\n",
      "recall       0.848485   0.500000  0.714953    0.674242      0.714953\n",
      "f1-score     0.785965   0.573427  0.714953    0.679696      0.704525\n",
      "support    132.000000  82.000000  0.714953  214.000000    214.000000\n",
      "Accuracy: 0.7149532710280374\n",
      "True Positive Rate: 0.5\n",
      "False Positive Rate: 0.15151515151515152\n",
      "True Negative Rate: 0.8484848484848485\n",
      "False Negative Rate: 0.5\n",
      "Precision: 0.6721311475409836\n",
      "Recall: 0.5\n",
      "F1 Score: 0.5734265734265733\n",
      "Support (0): 82\n",
      "Support (1): 132\n"
     ]
    }
   ],
   "source": [
    "k = 20\n",
    "print(f'KNN where K = {k}' )\n",
    "\n",
    "knn, y_train_pred, y_validate_pred = knn_fit_predict(k, \n",
    "                                                     X_train, \n",
    "                                                     y_train, \n",
    "                                                     X_validate)\n",
    "\n",
    "print('Train Evaluation\\n')\n",
    "train_accuracy = evaluate_clf(knn, X_train, y_train, y_train_pred)\n",
    "print('\\nValidate Evaluation\\n')\n",
    "validate_accuracy = evaluate_clf(knn, X_validate, \n",
    "                                 y_validate, y_validate_pred)"
   ]
  },
  {
   "cell_type": "markdown",
   "id": "bef5f7c9",
   "metadata": {},
   "source": [
    "6. What are the differences in the evaluation metrics? Which performs better on your in-sample data? Why?\n",
    "\n",
    "7. Which model performs best on our out-of-sample data from validate?\n",
    "\n",
    "10 nearest neighbors works best on the in-sample and out-of-sample data. However, the f1 score is better on the model where k = 20, so it is a bit more balanced. BUT, let's loop through different K's and see what number of neighbors gives us the best results. "
   ]
  },
  {
   "cell_type": "code",
   "execution_count": 99,
   "id": "051b9d87",
   "metadata": {},
   "outputs": [],
   "source": [
    "metrics = []\n",
    "\n",
    "for k in range(1,20):\n",
    "    knn, y_train_pred, y_val_pred = knn_fit_predict(k, X_train, \n",
    "                                                    y_train, \n",
    "                                                    X_validate)\n",
    "    train_acc = knn.score(X_train, y_train)\n",
    "    val_acc = knn.score(X_validate, y_validate)\n",
    "    \n",
    "    output = {\n",
    "            \"k\": k,\n",
    "            \"train_accuracy\": train_acc,\n",
    "            \"validate_accuracy\": val_acc\n",
    "    }\n",
    "\n",
    "    metrics.append(output)"
   ]
  },
  {
   "cell_type": "code",
   "execution_count": 100,
   "id": "44917c1e",
   "metadata": {},
   "outputs": [
    {
     "data": {
      "text/html": [
       "<div>\n",
       "<style scoped>\n",
       "    .dataframe tbody tr th:only-of-type {\n",
       "        vertical-align: middle;\n",
       "    }\n",
       "\n",
       "    .dataframe tbody tr th {\n",
       "        vertical-align: top;\n",
       "    }\n",
       "\n",
       "    .dataframe thead th {\n",
       "        text-align: right;\n",
       "    }\n",
       "</style>\n",
       "<table border=\"1\" class=\"dataframe\">\n",
       "  <thead>\n",
       "    <tr style=\"text-align: right;\">\n",
       "      <th></th>\n",
       "      <th>k</th>\n",
       "      <th>train_accuracy</th>\n",
       "      <th>validate_accuracy</th>\n",
       "      <th>difference</th>\n",
       "    </tr>\n",
       "  </thead>\n",
       "  <tbody>\n",
       "    <tr>\n",
       "      <th>0</th>\n",
       "      <td>1</td>\n",
       "      <td>0.995984</td>\n",
       "      <td>0.696262</td>\n",
       "      <td>0.299722</td>\n",
       "    </tr>\n",
       "    <tr>\n",
       "      <th>1</th>\n",
       "      <td>2</td>\n",
       "      <td>0.829317</td>\n",
       "      <td>0.691589</td>\n",
       "      <td>0.137728</td>\n",
       "    </tr>\n",
       "    <tr>\n",
       "      <th>2</th>\n",
       "      <td>3</td>\n",
       "      <td>0.841365</td>\n",
       "      <td>0.742991</td>\n",
       "      <td>0.098375</td>\n",
       "    </tr>\n",
       "    <tr>\n",
       "      <th>3</th>\n",
       "      <td>4</td>\n",
       "      <td>0.797189</td>\n",
       "      <td>0.710280</td>\n",
       "      <td>0.086908</td>\n",
       "    </tr>\n",
       "    <tr>\n",
       "      <th>4</th>\n",
       "      <td>5</td>\n",
       "      <td>0.793173</td>\n",
       "      <td>0.714953</td>\n",
       "      <td>0.078219</td>\n",
       "    </tr>\n",
       "    <tr>\n",
       "      <th>5</th>\n",
       "      <td>6</td>\n",
       "      <td>0.765060</td>\n",
       "      <td>0.728972</td>\n",
       "      <td>0.036088</td>\n",
       "    </tr>\n",
       "    <tr>\n",
       "      <th>6</th>\n",
       "      <td>7</td>\n",
       "      <td>0.763052</td>\n",
       "      <td>0.710280</td>\n",
       "      <td>0.052772</td>\n",
       "    </tr>\n",
       "    <tr>\n",
       "      <th>7</th>\n",
       "      <td>8</td>\n",
       "      <td>0.748996</td>\n",
       "      <td>0.719626</td>\n",
       "      <td>0.029370</td>\n",
       "    </tr>\n",
       "    <tr>\n",
       "      <th>8</th>\n",
       "      <td>9</td>\n",
       "      <td>0.761044</td>\n",
       "      <td>0.700935</td>\n",
       "      <td>0.060110</td>\n",
       "    </tr>\n",
       "    <tr>\n",
       "      <th>9</th>\n",
       "      <td>10</td>\n",
       "      <td>0.744980</td>\n",
       "      <td>0.724299</td>\n",
       "      <td>0.020681</td>\n",
       "    </tr>\n",
       "    <tr>\n",
       "      <th>10</th>\n",
       "      <td>11</td>\n",
       "      <td>0.744980</td>\n",
       "      <td>0.733645</td>\n",
       "      <td>0.011335</td>\n",
       "    </tr>\n",
       "    <tr>\n",
       "      <th>11</th>\n",
       "      <td>12</td>\n",
       "      <td>0.736948</td>\n",
       "      <td>0.733645</td>\n",
       "      <td>0.003303</td>\n",
       "    </tr>\n",
       "    <tr>\n",
       "      <th>12</th>\n",
       "      <td>13</td>\n",
       "      <td>0.726908</td>\n",
       "      <td>0.728972</td>\n",
       "      <td>-0.002064</td>\n",
       "    </tr>\n",
       "    <tr>\n",
       "      <th>13</th>\n",
       "      <td>14</td>\n",
       "      <td>0.728916</td>\n",
       "      <td>0.738318</td>\n",
       "      <td>-0.009402</td>\n",
       "    </tr>\n",
       "    <tr>\n",
       "      <th>14</th>\n",
       "      <td>15</td>\n",
       "      <td>0.724900</td>\n",
       "      <td>0.738318</td>\n",
       "      <td>-0.013418</td>\n",
       "    </tr>\n",
       "    <tr>\n",
       "      <th>15</th>\n",
       "      <td>16</td>\n",
       "      <td>0.730924</td>\n",
       "      <td>0.733645</td>\n",
       "      <td>-0.002721</td>\n",
       "    </tr>\n",
       "    <tr>\n",
       "      <th>16</th>\n",
       "      <td>17</td>\n",
       "      <td>0.724900</td>\n",
       "      <td>0.714953</td>\n",
       "      <td>0.009946</td>\n",
       "    </tr>\n",
       "    <tr>\n",
       "      <th>17</th>\n",
       "      <td>18</td>\n",
       "      <td>0.732932</td>\n",
       "      <td>0.738318</td>\n",
       "      <td>-0.005386</td>\n",
       "    </tr>\n",
       "    <tr>\n",
       "      <th>18</th>\n",
       "      <td>19</td>\n",
       "      <td>0.714859</td>\n",
       "      <td>0.714953</td>\n",
       "      <td>-0.000094</td>\n",
       "    </tr>\n",
       "  </tbody>\n",
       "</table>\n",
       "</div>"
      ],
      "text/plain": [
       "     k  train_accuracy  validate_accuracy  difference\n",
       "0    1        0.995984           0.696262    0.299722\n",
       "1    2        0.829317           0.691589    0.137728\n",
       "2    3        0.841365           0.742991    0.098375\n",
       "3    4        0.797189           0.710280    0.086908\n",
       "4    5        0.793173           0.714953    0.078219\n",
       "5    6        0.765060           0.728972    0.036088\n",
       "6    7        0.763052           0.710280    0.052772\n",
       "7    8        0.748996           0.719626    0.029370\n",
       "8    9        0.761044           0.700935    0.060110\n",
       "9   10        0.744980           0.724299    0.020681\n",
       "10  11        0.744980           0.733645    0.011335\n",
       "11  12        0.736948           0.733645    0.003303\n",
       "12  13        0.726908           0.728972   -0.002064\n",
       "13  14        0.728916           0.738318   -0.009402\n",
       "14  15        0.724900           0.738318   -0.013418\n",
       "15  16        0.730924           0.733645   -0.002721\n",
       "16  17        0.724900           0.714953    0.009946\n",
       "17  18        0.732932           0.738318   -0.005386\n",
       "18  19        0.714859           0.714953   -0.000094"
      ]
     },
     "execution_count": 100,
     "metadata": {},
     "output_type": "execute_result"
    }
   ],
   "source": [
    "eval_df = pd.DataFrame(metrics)\n",
    "# add a difference column of diff between train and validate\n",
    "eval_df['difference'] = eval_df['train_accuracy'] - eval_df['validate_accuracy']\n",
    "\n",
    "eval_df"
   ]
  },
  {
   "cell_type": "code",
   "execution_count": 101,
   "id": "b0e17b27",
   "metadata": {},
   "outputs": [
    {
     "data": {
      "image/png": "[encoded data removed]",
      "text/plain": [
       "<Figure size 1152x648 with 1 Axes>"
      ]
     },
     "metadata": {
      "needs_background": "light"
     },
     "output_type": "display_data"
    }
   ],
   "source": [
    "# plot the data\n",
    "plt.figure(figsize=(16,9))\n",
    "# plot train accuracy against k\n",
    "plt.plot(eval_df.k, eval_df.train_accuracy, label='Train Accuracy')\n",
    "# plot validate accuracy against k\n",
    "plt.plot(eval_df.k, eval_df.validate_accuracy, label='Validate Accuracy')\n",
    "# plot the difference against k\n",
    "plt.plot(eval_df.k, eval_df.difference, label='Accuracy Difference')\n",
    "plt.ylabel('Accuracy')\n",
    "plt.legend()\n",
    "plt.xticks(np.arange(0,21,1))\n",
    "plt.grid()\n",
    "plt.show()"
   ]
  },
  {
   "cell_type": "markdown",
   "id": "b9e0a99f",
   "metadata": {},
   "source": [
    "Looking at this chart, I would select k=12 as the best model. "
   ]
  },
  {
   "cell_type": "code",
   "execution_count": 103,
   "id": "e9ba7683",
   "metadata": {},
   "outputs": [
    {
     "name": "stdout",
     "output_type": "stream",
     "text": [
      "KNN where K = 15\n",
      "Train Evaluation\n",
      "\n",
      "Accuracy: 0.7248995983935743\n",
      "Confusion Matrix\n",
      "          Pred 0  Pred 1\n",
      "Actual 0     264      43\n",
      "Actual 1      94      97\n",
      "Classification Report\n",
      "                    0           1  accuracy   macro avg  weighted avg\n",
      "precision    0.737430    0.692857    0.7249    0.715144      0.720335\n",
      "recall       0.859935    0.507853    0.7249    0.683894      0.724900\n",
      "f1-score     0.793985    0.586103    0.7249    0.690044      0.714255\n",
      "support    307.000000  191.000000    0.7249  498.000000    498.000000\n",
      "Accuracy: 0.7248995983935743\n",
      "True Positive Rate: 0.5078534031413613\n",
      "False Positive Rate: 0.14006514657980457\n",
      "True Negative Rate: 0.8599348534201955\n",
      "False Negative Rate: 0.49214659685863876\n",
      "Precision: 0.6928571428571428\n",
      "Recall: 0.5078534031413613\n",
      "F1 Score: 0.5861027190332326\n",
      "Support (0): 191\n",
      "Support (1): 307\n",
      "\n",
      "Validate Evaluation\n",
      "\n",
      "Accuracy: 0.7383177570093458\n",
      "Confusion Matrix\n",
      "          Pred 0  Pred 1\n",
      "Actual 0     110      22\n",
      "Actual 1      34      48\n",
      "Classification Report\n",
      "                    0          1  accuracy   macro avg  weighted avg\n",
      "precision    0.763889   0.685714  0.738318    0.724802      0.733934\n",
      "recall       0.833333   0.585366  0.738318    0.709350      0.738318\n",
      "f1-score     0.797101   0.631579  0.738318    0.714340      0.733677\n",
      "support    132.000000  82.000000  0.738318  214.000000    214.000000\n",
      "Accuracy: 0.7383177570093458\n",
      "True Positive Rate: 0.5853658536585366\n",
      "False Positive Rate: 0.16666666666666666\n",
      "True Negative Rate: 0.8333333333333334\n",
      "False Negative Rate: 0.4146341463414634\n",
      "Precision: 0.6857142857142857\n",
      "Recall: 0.5853658536585366\n",
      "F1 Score: 0.6315789473684211\n",
      "Support (0): 82\n",
      "Support (1): 132\n"
     ]
    }
   ],
   "source": [
    "k = 15\n",
    "print(f'KNN where K = {k}' )\n",
    "\n",
    "knn, y_train_pred, y_validate_pred = knn_fit_predict(k, \n",
    "                                                     X_train, \n",
    "                                                     y_train, \n",
    "                                                     X_validate)\n",
    "\n",
    "print('Train Evaluation\\n')\n",
    "train_accuracy = evaluate_clf(knn, X_train, y_train, y_train_pred)\n",
    "\n",
    "print('\\nValidate Evaluation\\n')\n",
    "validate_accuracy = evaluate_clf(knn, X_validate, \n",
    "                                 y_validate, y_validate_pred)"
   ]
  }
 ],
 "metadata": {
  "kernelspec": {
   "display_name": "Python 3 (ipykernel)",
   "language": "python",
   "name": "python3"
  },
  "language_info": {
   "codemirror_mode": {
    "name": "ipython",
    "version": 3
   },
   "file_extension": ".py",
   "mimetype": "text/x-python",
   "name": "python",
   "nbconvert_exporter": "python",
   "pygments_lexer": "ipython3",
   "version": "3.9.13"
  }
 },
 "nbformat": 4,
 "nbformat_minor": 5
}
