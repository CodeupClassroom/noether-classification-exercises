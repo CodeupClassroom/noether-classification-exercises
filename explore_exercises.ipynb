{
 "cells": [
  {
   "cell_type": "markdown",
   "metadata": {},
   "source": [
    "# Explore Exercises"
   ]
  },
  {
   "cell_type": "markdown",
   "metadata": {},
   "source": [
    "## Review of Exploratory Data Analysis\n",
    "\n",
    "### Goals of EDA\n",
    "\n",
    "We explore the interactions of the attributes and target variable to help discover drivers of our target variable and redundant or interdependent attributes.\n",
    "\n",
    "1. Discover features that are driving the outcome (target). (Number 1 reason to explore)\n",
    "2. Learn the vast majority of our takeaways and interesting stories from the data.\n",
    "3. Discover if we need to drop features, if we need to handle missing values, or if there's value to combining features.\n",
    "\n",
    "<hr style=\"border:1px solid black\">\n",
    "\n",
    "### EDA Process\n",
    "\n",
    "1. Hypothesize: Form and document your initial hypotheses about how the predictors (independent variables, features, or attributes) interact with the target (y-value or dependent variable). You can do this in the form of questions in a natural language (as opposed to \"statistical\" language).\n",
    "\n",
    "2. Visualize: use visualization techniques to identify drivers. When a visualization needs to be followed up with a statistical test, do so.\n",
    "\n",
    "3. Test your hypotheses when visualization isn't immediately clear. Use the appropriate statistical tests (t-tests, correlation, chi-square)\n",
    "\n",
    "### General Recipe\n",
    "\n",
    "1. <b>Univariate Stats</b>: descriptive stats, frequencies, histograms. **We recommend doing this during prep prior to splitting into train/validate/test**, but if it is not, then it should be done first here. Why? Outliers. Running tests that assume normalcy. Scale of each variable. General \"getting to know\" your data.\n",
    "    - Univariate means a single variable, so we'll look at .value_counts() and histograms.\n",
    "    - Explore the target variable itself. What is the distribution of values?\n",
    "    - Explore the categorical and qualitative variables.\n",
    "    - Explore the numeric variables.\n",
    "<br>\n",
    "<br>\n",
    "2. <b>Bivariate Stats</b>: Bivariate means two variables.\n",
    "    - Plot the interactions of each variable with the target. Document your takeaways.\n",
    "    - Explore interation of independent variables using viz and/or hypothesis testing to address interdependence.\n",
    "<br>\n",
    "<br>\n",
    "3. <b>Multivariate Stats</b> (more than 2 variables): Ask additional questions of the data, such as how subgroups compare to each-other and to the overall population. Answer questions using visualizations and/or hypothesis testing.\n",
    "    - use color to represent a discrete variable and then choose a chart style based on the data types of other two variables.\n",
    "<br>\n",
    "<br>\n",
    "4. <b>Statistical Tests</b>: If the visualizations are not crystal clear, it's important to conduct hypothesis tests.\n",
    "    - With numeric to numeric, test for correlation with Pearson's R for linear and Spearman's R for non-linear relationships.\n",
    "    - For numeric to categorical, compare the means of two populations or a subgroup to the population using a t-test, if your samples are normaly(ish) distributed but have different variances (as determined by calling .var() on each column/Series, ANOVA to compare means from more than 2 groups, or a Mann-Whitney u-test if the data does not match the assumptions of a t-test.\n",
    "    - With categorical to categorical variables, use , chi-squared test.\n",
    "    \n",
    "<hr style=\"border:1px solid black\">\n",
    "\n",
    "### Standing Orders for Exploration\n",
    "\n",
    "- Document your initial questions or assumptions. Write them down (in your README or notebook) so they are concrete and not in your head.\n",
    "\n",
    "- Document your takeaways after each visualization. Even if your takeaway is, \"there is nothing interesting between var1 and target\".\n",
    "\n",
    "- Document your answer to each question.\n",
    "\n",
    "- When you run statistical tests to answer your questions, Document your null and alternative hypothesis, the test you run, the test results, and your conclusion.\n",
    "\n",
    "- Document your takeaways, in case that wasn't clear. It is a huge component of your final deliverable/analysis.\n",
    "\n",
    "- Document your action plan. What are your next steps and/or new questions based on what you have learned? I recommend documenting, continuing through all of your questions, and then going back and taking action only after you have answered your initial questions."
   ]
  },
  {
   "cell_type": "markdown",
   "metadata": {},
   "source": [
    "**imports**"
   ]
  },
  {
   "cell_type": "code",
   "execution_count": 1,
   "metadata": {},
   "outputs": [],
   "source": [
    "import warnings \n",
    "warnings.filterwarnings(\"ignore\")\n",
    "\n",
    "# imports \n",
    "import matplotlib.pyplot as plt\n",
    "import numpy as np\n",
    "import pandas as pd\n",
    "import seaborn as sns\n",
    "import env\n",
    "from scipy import stats\n",
    "from sklearn.model_selection import train_test_split"
   ]
  },
  {
   "cell_type": "markdown",
   "metadata": {},
   "source": [
    "## Part 1\n",
    "\n",
    "Continue in your classification_exercises.ipynb notebook. As always, add, commit, and push your changes.\n",
    "\n",
    "Section 1 - iris_db: Using iris data from our mySQL server and the methods used in the lesson above:\n",
    "\n",
    "**Planning:**\n",
    "Can we determine what type of Iris is being examined based on metrics taken from a study of three different species of the flower? Do we have significant indicators of what type of species we encounter based on petal or sepal lengths.\n",
    "\n",
    "**Acquire, prepare & split your data.**"
   ]
  },
  {
   "cell_type": "code",
   "execution_count": 4,
   "metadata": {},
   "outputs": [],
   "source": [
    "# connection function for accessing mysql\n",
    "def get_connection(db, user=env.username, host=env.host, password=env.password):\n",
    "    return f'mysql+pymysql://{user}:{password}@{host}/{db}'\n",
    "\n",
    "# query to acquire the iris data\n",
    "query = \"SELECT measurements.measurement_id, measurements.sepal_length,\\\n",
    "                measurements.sepal_width, measurements.petal_length, \\\n",
    "                measurements.petal_width, species.species_name, species.species_id \\\n",
    "            FROM measurements JOIN species ON(species.species_id=measurements.species_id)\"\n",
    "\n",
    "# function to get the data and run the query\n",
    "def get_data():\n",
    "    return pd.read_sql(query,get_connection('iris_db'))\n",
    "\n",
    "# acquire the data\n",
    "df = get_data()"
   ]
  },
  {
   "cell_type": "code",
   "execution_count": 5,
   "metadata": {},
   "outputs": [],
   "source": [
    "# Preparation: \n",
    "def prep_iris_inline(df):\n",
    "    df = df.rename(columns={'species_name': 'species'})\n",
    "    df = df.drop(columns=['measurement_id', 'species_id'])\n",
    "    return df\n",
    "\n",
    "df = prep_iris_inline(df)"
   ]
  },
  {
   "cell_type": "code",
   "execution_count": 6,
   "metadata": {},
   "outputs": [
    {
     "data": {
      "text/plain": [
       "((84, 5), (36, 5), (30, 5))"
      ]
     },
     "execution_count": 6,
     "metadata": {},
     "output_type": "execute_result"
    }
   ],
   "source": [
    "# 80/20 train test split\n",
    "train, test = train_test_split(df, train_size=0.8, random_state=1349, stratify=df.species)\n",
    "# 70/30 train validate split\n",
    "train, validate = train_test_split(train, train_size=0.7, random_state=1349, stratify=train.species)\n",
    "\n",
    "train.shape, validate.shape, test.shape"
   ]
  },
  {
   "cell_type": "markdown",
   "metadata": {},
   "source": [
    "**Univariate Stats**\n",
    "\n",
    "For each measurement type (quantitative variable): create a histogram, boxplot, & compute descriptive statistics (using .describe()).\n",
    "\n",
    "For each species (categorical variable): create a frequency table and a bar plot of those frequencies.\n",
    "\n",
    "Document takeaways & any actions."
   ]
  },
  {
   "cell_type": "code",
   "execution_count": 7,
   "metadata": {},
   "outputs": [
    {
     "data": {
      "image/png": "[encoded data removed]",
      "text/plain": [
       "<Figure size 432x288 with 1 Axes>"
      ]
     },
     "metadata": {
      "needs_background": "light"
     },
     "output_type": "display_data"
    },
    {
     "data": {
      "image/png": "[encoded data removed]",
      "text/plain": [
       "<Figure size 432x288 with 1 Axes>"
      ]
     },
     "metadata": {
      "needs_background": "light"
     },
     "output_type": "display_data"
    },
    {
     "data": {
      "image/png": "[encoded data removed]",
      "text/plain": [
       "<Figure size 432x288 with 1 Axes>"
      ]
     },
     "metadata": {
      "needs_background": "light"
     },
     "output_type": "display_data"
    },
    {
     "data": {
      "image/png": "[encoded data removed]",
      "text/plain": [
       "<Figure size 432x288 with 1 Axes>"
      ]
     },
     "metadata": {
      "needs_background": "light"
     },
     "output_type": "display_data"
    },
    {
     "data": {
      "image/png": "[encoded data removed]",
      "text/plain": [
       "<Figure size 432x288 with 1 Axes>"
      ]
     },
     "metadata": {
      "needs_background": "light"
     },
     "output_type": "display_data"
    },
    {
     "data": {
      "image/png": "[encoded data removed]",
      "text/plain": [
       "<Figure size 432x288 with 1 Axes>"
      ]
     },
     "metadata": {
      "needs_background": "light"
     },
     "output_type": "display_data"
    },
    {
     "data": {
      "image/png": "[encoded data removed]",
      "text/plain": [
       "<Figure size 432x288 with 1 Axes>"
      ]
     },
     "metadata": {
      "needs_background": "light"
     },
     "output_type": "display_data"
    },
    {
     "data": {
      "image/png": "[encoded data removed]",
      "text/plain": [
       "<Figure size 432x288 with 1 Axes>"
      ]
     },
     "metadata": {
      "needs_background": "light"
     },
     "output_type": "display_data"
    }
   ],
   "source": [
    "# Plot numeric columns\n",
    "# define num_cols here:\n",
    "# num_cols could be defined by datatype of float64, or just anything that isn't an object\n",
    "# every thing in train.columns where the train[col] series is not an object\n",
    "num_cols = train.columns[[train[col].dtype != 'object' for col in train.columns]]\n",
    "for col in num_cols:\n",
    "    #use matplotlib to create a histogram\n",
    "    #alt formatting: calling train[col].hist()\n",
    "    plt.hist(train[col])\n",
    "    # make a title, cleaned up a little with string methods\n",
    "    plt.title(col.replace('_',' ').capitalize())\n",
    "    #call plt.show so we have separate visualizations\n",
    "    plt.show()\n",
    "    # use matplotlib to create a boxplot\n",
    "    plt.boxplot(train[col])\n",
    "    # use the same string methods to clean up the title\n",
    "    plt.title(col.replace('_',' ').capitalize())\n",
    "    plt.savefig(col + 'box.png')\n",
    "    plt.show()"
   ]
  },
  {
   "cell_type": "code",
   "execution_count": 11,
   "metadata": {},
   "outputs": [
    {
     "data": {
      "image/png": "[encoded data removed]",
      "text/plain": [
       "<Figure size 432x288 with 1 Axes>"
      ]
     },
     "metadata": {
      "needs_background": "light"
     },
     "output_type": "display_data"
    }
   ],
   "source": [
    "# Do the same process for our target, a categorical dependent variable\n",
    "train.species.value_counts()\n",
    "\n",
    "plt.hist(train.species)\n",
    "plt.show()"
   ]
  },
  {
   "cell_type": "markdown",
   "metadata": {},
   "source": [
    "<div class=\"alert alert-block alert-success\">\n",
    "<b> Takeaways</b>:\n",
    "<br>\n",
    "\n",
    "</div>"
   ]
  },
  {
   "cell_type": "markdown",
   "metadata": {},
   "source": [
    "**Bivariate Stats**\n",
    "\n",
    "Visualize each measurement type (y-axis) with the species variable (x-axis) using barplots, adding a horizontal line showing the overall mean of the metric (y-axis).\n",
    "\n",
    "For each measurement type, compute the descriptive statistics for each species.\n",
    "\n",
    "For virginica & versicolor: Compare the mean petal_width using the Mann-Whitney test (scipy.stats.mannwhitneyu) to see if there is a significant difference between the two groups. Do the same for the other measurement types.\n",
    "\n",
    "Document takeaways & any actions."
   ]
  },
  {
   "cell_type": "code",
   "execution_count": 8,
   "metadata": {},
   "outputs": [
    {
     "data": {
      "image/png": "[encoded data removed]",
      "text/plain": [
       "<Figure size 432x288 with 1 Axes>"
      ]
     },
     "metadata": {
      "needs_background": "light"
     },
     "output_type": "display_data"
    },
    {
     "data": {
      "image/png": "[encoded data removed]",
      "text/plain": [
       "<Figure size 432x288 with 1 Axes>"
      ]
     },
     "metadata": {
      "needs_background": "light"
     },
     "output_type": "display_data"
    },
    {
     "data": {
      "image/png": "[encoded data removed]",
      "text/plain": [
       "<Figure size 432x288 with 1 Axes>"
      ]
     },
     "metadata": {
      "needs_background": "light"
     },
     "output_type": "display_data"
    },
    {
     "data": {
      "image/png": "[encoded data removed]",
      "text/plain": [
       "<Figure size 432x288 with 1 Axes>"
      ]
     },
     "metadata": {
      "needs_background": "light"
     },
     "output_type": "display_data"
    },
    {
     "data": {
      "text/html": [
       "<div>\n",
       "<style scoped>\n",
       "    .dataframe tbody tr th:only-of-type {\n",
       "        vertical-align: middle;\n",
       "    }\n",
       "\n",
       "    .dataframe tbody tr th {\n",
       "        vertical-align: top;\n",
       "    }\n",
       "\n",
       "    .dataframe thead th {\n",
       "        text-align: right;\n",
       "    }\n",
       "</style>\n",
       "<table border=\"1\" class=\"dataframe\">\n",
       "  <thead>\n",
       "    <tr style=\"text-align: right;\">\n",
       "      <th></th>\n",
       "      <th>sepal_length</th>\n",
       "      <th>sepal_width</th>\n",
       "      <th>petal_length</th>\n",
       "      <th>petal_width</th>\n",
       "    </tr>\n",
       "  </thead>\n",
       "  <tbody>\n",
       "    <tr>\n",
       "      <th>count</th>\n",
       "      <td>28.000000</td>\n",
       "      <td>28.000000</td>\n",
       "      <td>28.000000</td>\n",
       "      <td>28.000000</td>\n",
       "    </tr>\n",
       "    <tr>\n",
       "      <th>mean</th>\n",
       "      <td>5.935714</td>\n",
       "      <td>2.800000</td>\n",
       "      <td>4.217857</td>\n",
       "      <td>1.332143</td>\n",
       "    </tr>\n",
       "    <tr>\n",
       "      <th>std</th>\n",
       "      <td>0.512231</td>\n",
       "      <td>0.303071</td>\n",
       "      <td>0.522142</td>\n",
       "      <td>0.205577</td>\n",
       "    </tr>\n",
       "    <tr>\n",
       "      <th>min</th>\n",
       "      <td>5.000000</td>\n",
       "      <td>2.000000</td>\n",
       "      <td>3.000000</td>\n",
       "      <td>1.000000</td>\n",
       "    </tr>\n",
       "    <tr>\n",
       "      <th>25%</th>\n",
       "      <td>5.600000</td>\n",
       "      <td>2.700000</td>\n",
       "      <td>3.900000</td>\n",
       "      <td>1.275000</td>\n",
       "    </tr>\n",
       "    <tr>\n",
       "      <th>50%</th>\n",
       "      <td>6.000000</td>\n",
       "      <td>2.900000</td>\n",
       "      <td>4.300000</td>\n",
       "      <td>1.300000</td>\n",
       "    </tr>\n",
       "    <tr>\n",
       "      <th>75%</th>\n",
       "      <td>6.300000</td>\n",
       "      <td>3.000000</td>\n",
       "      <td>4.600000</td>\n",
       "      <td>1.500000</td>\n",
       "    </tr>\n",
       "    <tr>\n",
       "      <th>max</th>\n",
       "      <td>6.900000</td>\n",
       "      <td>3.400000</td>\n",
       "      <td>5.100000</td>\n",
       "      <td>1.700000</td>\n",
       "    </tr>\n",
       "  </tbody>\n",
       "</table>\n",
       "</div>"
      ],
      "text/plain": [
       "       sepal_length  sepal_width  petal_length  petal_width\n",
       "count     28.000000    28.000000     28.000000    28.000000\n",
       "mean       5.935714     2.800000      4.217857     1.332143\n",
       "std        0.512231     0.303071      0.522142     0.205577\n",
       "min        5.000000     2.000000      3.000000     1.000000\n",
       "25%        5.600000     2.700000      3.900000     1.275000\n",
       "50%        6.000000     2.900000      4.300000     1.300000\n",
       "75%        6.300000     3.000000      4.600000     1.500000\n",
       "max        6.900000     3.400000      5.100000     1.700000"
      ]
     },
     "execution_count": 8,
     "metadata": {},
     "output_type": "execute_result"
    }
   ],
   "source": [
    "# we retroactively place our takeaway from this visualization as the title\n",
    "plt.title(\"Virginica has highest mean sepal length\")\n",
    "# calling seaborn for a bar plot, specifying species and sepal length\n",
    "sns.barplot(x=\"species\", y=\"sepal_length\", data=train)\n",
    "# annotate a mean of the sepal length\n",
    "# calculating a mean of the sepal length (for *all* the species)\n",
    "mean_sepal_length = train.sepal_length.mean()\n",
    "# place the calculated mean as a horizontal axis line\n",
    "plt.axhline(mean_sepal_length, label=\"Mean sepal length\", color='red', linestyle='dotted')\n",
    "plt.xlabel('')\n",
    "plt.legend()\n",
    "plt.show()\n",
    "\n",
    "# change sepal length to sepal width, run same process\n",
    "plt.title(\"Setosa has highest mean sepal width\")\n",
    "sns.barplot(x=\"species\", y=\"sepal_width\", data=train)\n",
    "mean_sepal_width = train.sepal_width.mean()\n",
    "plt.axhline(mean_sepal_width, label=\"Mean sepal width\", color='red', linestyle='dotted')\n",
    "plt.xlabel('')\n",
    "plt.legend()\n",
    "plt.show()\n",
    "\n",
    "\n",
    "plt.title(\"Virginica has highest mean petal length\")\n",
    "sns.barplot(x=\"species\", y=\"petal_length\", data=train)\n",
    "mean_petal_length = train.petal_length.mean()\n",
    "plt.axhline(mean_petal_length, label=\"Mean petal length\", color='red', linestyle='dotted')\n",
    "plt.xlabel('')\n",
    "plt.legend()\n",
    "plt.show()\n",
    "\n",
    "\n",
    "plt.title(\"Setosa has smallest mean petal width\")\n",
    "sns.barplot(x=\"species\", y=\"petal_width\", data=train)\n",
    "mean_petal_width = train.petal_width.mean()\n",
    "plt.axhline(mean_petal_width, label=\"Mean petal width\", color='red', linestyle='dotted')\n",
    "plt.xlabel('')\n",
    "plt.legend()\n",
    "plt.show()\n",
    "\n",
    "# Virginica descriptive statistics\n",
    "# train, where train.species is virginica\n",
    "train[train.species == 'virginica'].describe()\n",
    "\n",
    "# Setosa descriptive statistics\n",
    "train[train.species == 'setosa'].describe()\n",
    "\n",
    "\n",
    "# Versicolor descriptive statistics\n",
    "train[train.species == 'versicolor'].describe()\n",
    "\n",
    "# alpha: 0.05"
   ]
  },
  {
   "cell_type": "markdown",
   "metadata": {},
   "source": [
    "For virginica & versicolor: Compare the mean petal_width using the Mann-Whitney test (scipy.stats.mannwhitneyu) to see if there is a significant difference between the two groups. Do the same for the other measurement types.\n",
    "\n",
    "H_0: \n",
    "\n",
    "H_a: \n"
   ]
  },
  {
   "cell_type": "code",
   "execution_count": 9,
   "metadata": {},
   "outputs": [
    {
     "data": {
      "text/plain": [
       "(768.5, 2.982389808696449e-10)"
      ]
     },
     "execution_count": 9,
     "metadata": {},
     "output_type": "execute_result"
    }
   ],
   "source": [
    "\n",
    "\n",
    "# establish variables that represent the species subset of train\n",
    "# virginica = train, where train's species is virginica\n",
    "virginica = train[train.species == 'virginica']\n",
    "# again, for versicolor\n",
    "versicolor = train[train.species == 'versicolor']\\\n",
    "# again, for setosa\n",
    "setosa = train[train.species == 'setosa']\n",
    "# establish a one-tailed test using a kwarg in mannwhitney\n",
    "t, p = stats.mannwhitneyu(virginica.petal_width, versicolor.petal_width, \n",
    "                          alternative=\"greater\")\n",
    "t, p"
   ]
  },
  {
   "cell_type": "code",
   "execution_count": 10,
   "metadata": {},
   "outputs": [
    {
     "name": "stdout",
     "output_type": "stream",
     "text": [
      "Comparing sepal_length between virginica and versicolor\n",
      "652.0 1.0119920315840642e-05\n",
      "------------------\n",
      "\n",
      "\n",
      "Comparing sepal_width between virginica and versicolor\n",
      "534.0 0.009508012794926874\n",
      "------------------\n",
      "\n",
      "\n",
      "Comparing petal_length between virginica and versicolor\n",
      "771.5 2.5253450566492905e-10\n",
      "------------------\n",
      "\n",
      "\n",
      "Comparing petal_width between virginica and versicolor\n",
      "768.5 2.982389808696449e-10\n",
      "------------------\n",
      "\n",
      "\n"
     ]
    }
   ],
   "source": [
    "test_var = ['sepal_length', 'sepal_width', 'petal_length', 'petal_width']\n",
    "for var in test_var:\n",
    "    t, p = t, p = stats.mannwhitneyu(virginica[var], versicolor[var], alternative=\"greater\")\n",
    "    print(f'Comparing {var} between virginica and versicolor')\n",
    "    print(t, p)\n",
    "    print('------------------')\n",
    "    print('\\n')"
   ]
  },
  {
   "cell_type": "markdown",
   "metadata": {},
   "source": [
    "<div class=\"alert alert-block alert-success\">\n",
    "<b> Takeaways</b>:\n",
    "<br>\n",
    "\n",
    "</div>"
   ]
  },
  {
   "cell_type": "markdown",
   "metadata": {},
   "source": [
    "**Multivariate Stats**\n",
    "\n",
    "Visualize the interaction of each measurement type with the others using a pairplot (or scatter matrix or something similar) and add color to represent species.\n",
    "\n",
    "Visualize two numeric variables of the species. Hint: sns.relplot with hue or col\n",
    "\n",
    "Create a swarmplot using a melted dataframe of all your numeric variables. The x-axis should be the variable name, the y-axis the measure. Add another dimension using color to represent species. Document takeaways from this visualization.\n",
    "\n",
    "Ask a specific question of the data, such as: is the sepal area signficantly different in virginica compared to setosa? Answer the question through both a plot and using a mann-whitney or t-test. If you use a t-test, be sure assumptions are met (independence, normality, equal variance).\n",
    "\n",
    "Document takeaways and any actions."
   ]
  },
  {
   "cell_type": "code",
   "execution_count": null,
   "metadata": {},
   "outputs": [],
   "source": [
    "train['sepal_area'] = train.sepal_length * train.sepal_width\n",
    "train['petal_area'] = train['petal_length'] * train['petal_width']\n",
    "\n",
    "import itertools\n",
    "\n",
    "\n",
    "list(itertools.combinations(train.drop(columns='species').columns, 2))\n",
    "\n",
    "# define feature combinations with a list of tuples\n",
    "combos = [\n",
    "    ('sepal_length', 'sepal_width'),\n",
    "    ('petal_length', 'petal_width'),\n",
    "    ('sepal_area', 'petal_area'),\n",
    "    ('sepal_length', 'petal_length')\n",
    "]\n",
    "\n",
    "combos[0]\n",
    "\n",
    "# we can use aggretations to examine specific stats on our categorical target\n",
    "train.groupby('species')['sepal_area'].sum()\n",
    "\n",
    "x = combos[0][0]\n",
    "y = combos[0][1]\n",
    "def scatter_species(x, y):\n",
    "    for species, subset in train.groupby('species'):\n",
    "        plt.scatter(subset[x], subset[y], label=species)\n",
    "        plt.xlabel(x)\n",
    "        plt.ylabel(y)\n",
    "        plt.legend()\n",
    "        \n",
    "# test it with one plot\n",
    "scatter_species(x,y)\n",
    "\n",
    "plt.subplot(2,2,1)\n",
    "scatter_species(combos[0][0], combos[0][1])\n",
    "plt.subplot(2,2,2)\n",
    "scatter_species(combos[1][0], combos[1][1])\n",
    "plt.subplot(2,2,3)\n",
    "scatter_species(combos[2][0], combos[2][1])\n",
    "plt.subplot(2,2,4)\n",
    "scatter_species(combos[3][0], combos[3][1])\n",
    "plt.tight_layout()\n",
    "\n",
    "for i, pair in enumerate(combos):\n",
    "    plt.subplot(2,2,i+1)\n",
    "    scatter_species(pair[0], pair[1])"
   ]
  },
  {
   "cell_type": "code",
   "execution_count": null,
   "metadata": {},
   "outputs": [],
   "source": [
    "train.corr()\n",
    "sns.heatmap(train.corr(), cmap='mako', center=0, annot=True)\n",
    "plt.show()\n",
    "\n",
    "\n",
    "pd.plotting.scatter_matrix(train)\n",
    "plt.show()\n",
    "\n",
    "sns.pairplot(train, hue='species')\n",
    "plt.show()"
   ]
  },
  {
   "cell_type": "markdown",
   "metadata": {},
   "source": []
  },
  {
   "cell_type": "markdown",
   "metadata": {},
   "source": [
    "<div class=\"alert alert-block alert-success\">\n",
    "<b> Takeaways</b>:\n",
    "<br>\n",
    "\n",
    "</div>"
   ]
  },
  {
   "cell_type": "markdown",
   "metadata": {},
   "source": [
    "## Part II\n",
    "\n",
    "Explore your titanic dataset more completely.\n",
    "\n",
    "Determine drivers of the target variable\n",
    "Determine if certain columns should be dropped\n",
    "Determine if it would be valuable to bin some numeric columns\n",
    "Determine if it would be valuable to combine multiple columns into one.\n",
    "Does it make sense to combine any features?\n",
    "\n",
    "Do you find any surprises?\n",
    "\n",
    "Document any and all findings and takeaways in your notebook using markdown."
   ]
  },
  {
   "cell_type": "markdown",
   "metadata": {},
   "source": [
    "<div class=\"alert alert-block alert-success\">\n",
    "<b> Takeaways</b>:\n",
    "<br>\n",
    "\n",
    "</div>"
   ]
  },
  {
   "cell_type": "markdown",
   "metadata": {},
   "source": [
    "## Part III\n",
    "\n",
    "Explore your telco data to discover drivers of churn\n",
    "Determine if certain columns should be dropped\n",
    "Determine if it would be valuable to bin some numeric columns\n",
    "Determine if it would be valuable to combine multiple columns into one.\n",
    "What are your drivers of churn?\n",
    "\n",
    "Does it make sense to combine any features?\n",
    "\n",
    "Do you find any surprises?\n",
    "\n",
    "Document any and all findings and takeaways in your notebook using markdown."
   ]
  },
  {
   "cell_type": "markdown",
   "metadata": {},
   "source": [
    "<div class=\"alert alert-block alert-success\">\n",
    "<b> Takeaways</b>:\n",
    "<br>\n",
    "\n",
    "</div>"
   ]
  },
  {
   "cell_type": "code",
   "execution_count": null,
   "metadata": {},
   "outputs": [],
   "source": []
  },
  {
   "cell_type": "code",
   "execution_count": null,
   "metadata": {},
   "outputs": [],
   "source": []
  },
  {
   "cell_type": "code",
   "execution_count": null,
   "metadata": {},
   "outputs": [],
   "source": []
  },
  {
   "cell_type": "code",
   "execution_count": null,
   "metadata": {},
   "outputs": [],
   "source": []
  },
  {
   "cell_type": "code",
   "execution_count": null,
   "metadata": {},
   "outputs": [],
   "source": []
  },
  {
   "cell_type": "code",
   "execution_count": null,
   "metadata": {},
   "outputs": [],
   "source": []
  },
  {
   "cell_type": "code",
   "execution_count": null,
   "metadata": {},
   "outputs": [],
   "source": []
  },
  {
   "cell_type": "code",
   "execution_count": null,
   "metadata": {},
   "outputs": [],
   "source": [
    "train.info()"
   ]
  },
  {
   "cell_type": "markdown",
   "metadata": {},
   "source": [
    "**Hypothesis**\n",
    "\n",
    "- alpha = .05\n",
    "\n",
    "- $H_0$: Sepal length is the same in virginica and versicolor. $\\mu_{virginica} == \\mu_{versicolor}$.  \n",
    "\n",
    "- $H_a$: Sepal length significantly different in virginica and versicolor. $\\mu_{virginica} != \\mu_{versicolor}$. "
   ]
  },
  {
   "cell_type": "code",
   "execution_count": null,
   "metadata": {},
   "outputs": [],
   "source": [
    "virginica = train[train['species'] == 'virginica']\n",
    "versicolor = train[train['species'] == 'versicolor']"
   ]
  },
  {
   "cell_type": "code",
   "execution_count": null,
   "metadata": {},
   "outputs": [],
   "source": [
    "virginica.hist()\n",
    "plt.show()"
   ]
  },
  {
   "cell_type": "code",
   "execution_count": null,
   "metadata": {},
   "outputs": [],
   "source": [
    "versicolor.hist()\n",
    "plt.show()"
   ]
  },
  {
   "cell_type": "code",
   "execution_count": null,
   "metadata": {},
   "outputs": [],
   "source": [
    "virginica.describe()['sepal_length']['std']"
   ]
  },
  {
   "cell_type": "code",
   "execution_count": null,
   "metadata": {},
   "outputs": [],
   "source": [
    "versicolor.describe()['sepal_length']"
   ]
  },
  {
   "cell_type": "code",
   "execution_count": null,
   "metadata": {},
   "outputs": [],
   "source": [
    "import scipy.stats as stats"
   ]
  },
  {
   "cell_type": "code",
   "execution_count": null,
   "metadata": {},
   "outputs": [],
   "source": [
    "tstat, p = stats.ttest_ind(virginica.sepal_length,\n",
    "                versicolor.sepal_length, \n",
    "                equal_var=False\n",
    "               )"
   ]
  },
  {
   "cell_type": "code",
   "execution_count": null,
   "metadata": {},
   "outputs": [],
   "source": [
    "tstat"
   ]
  },
  {
   "cell_type": "code",
   "execution_count": null,
   "metadata": {},
   "outputs": [],
   "source": [
    "p"
   ]
  },
  {
   "cell_type": "markdown",
   "metadata": {},
   "source": [
    "**Conclusion** \n",
    "\n",
    "- We reject $H_0$ that the sepal length is the same for both groups.\n",
    "\n",
    "**Takeaway**\n",
    "\n",
    "- Sepal length will be a useful feature. \n",
    "\n",
    "What about sepal_width? Let's use the Mann-Whitney test for demo purposes. \n",
    "\n",
    "**Hypothesis**\n",
    "\n",
    "- alpha = .05\n",
    "\n",
    "- $H_0$: Sepal width is the same in virginica and versicolor. $\\mu_{virginica} == \\mu_{versicolor}$.  \n",
    "\n",
    "- $H_a$: Sepal width significantly different in virginica and versicolor. $\\mu_{virginica} != \\mu_{versicolor}$. "
   ]
  },
  {
   "cell_type": "code",
   "execution_count": null,
   "metadata": {},
   "outputs": [],
   "source": [
    "stats.mannwhitneyu(virginica.sepal_width, \n",
    "                   versicolor.sepal_width\n",
    "                  )"
   ]
  },
  {
   "cell_type": "markdown",
   "metadata": {},
   "source": [
    "**Conclusion**\n",
    "\n",
    "We reject $H_0$ that the sepal width is the same! \n",
    "\n",
    "**Takeaway**\n",
    "\n",
    "Sepal width, while not the strongest indicator, is still useful. "
   ]
  },
  {
   "cell_type": "code",
   "execution_count": null,
   "metadata": {},
   "outputs": [],
   "source": [
    "sns.catplot(data=train, x='species', y='petal_area', kind='strip')"
   ]
  },
  {
   "cell_type": "code",
   "execution_count": null,
   "metadata": {},
   "outputs": [],
   "source": [
    "sns.relplot(data=train, x='sepal_area', y='petal_area', kind='scatter', hue='species', col='species')"
   ]
  },
  {
   "cell_type": "code",
   "execution_count": null,
   "metadata": {},
   "outputs": [],
   "source": []
  }
 ],
 "metadata": {
  "kernelspec": {
   "display_name": "Python 3",
   "language": "python",
   "name": "python3"
  },
  "language_info": {
   "codemirror_mode": {
    "name": "ipython",
    "version": 3
   },
   "file_extension": ".py",
   "mimetype": "text/x-python",
   "name": "python",
   "nbconvert_exporter": "python",
   "pygments_lexer": "ipython3",
   "version": "3.8.8"
  }
 },
 "nbformat": 4,
 "nbformat_minor": 4
}
